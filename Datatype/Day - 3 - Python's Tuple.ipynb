{
 "cells": [
  {
   "cell_type": "markdown",
   "metadata": {},
   "source": [
    "### Creating Tuple"
   ]
  },
  {
   "cell_type": "code",
   "execution_count": 97,
   "metadata": {},
   "outputs": [],
   "source": [
    "a = () #Empty Tuple\n",
    "b = (1, 1, 2, 3, 3, 4, 5, 6) #Tuple with only Int Datatype\n",
    "c = (1, 'Tuple', [1,2,2]) # Tuple with Different Datatype\n",
    "d = 3, 4, 6 # By default, the multiple values are assigned as tuple"
   ]
  },
  {
   "cell_type": "markdown",
   "metadata": {},
   "source": [
    "### Adding Elements to Tuple"
   ]
  },
  {
   "cell_type": "code",
   "execution_count": 98,
   "metadata": {},
   "outputs": [
    {
     "name": "stdout",
     "output_type": "stream",
     "text": [
      "<class 'tuple'>\n",
      "<class 'tuple'>\n"
     ]
    }
   ],
   "source": [
    "# Tuple's are immutable, meaning, it cannot change the elements of tuple. So we cannot\n",
    "# change existing tuples. No changes on existing tuples.\n",
    "print(type(a))\n",
    "print(type(d))\n",
    "a = (1, 2, 3, 4)"
   ]
  },
  {
   "cell_type": "markdown",
   "metadata": {},
   "source": [
    "### Basic Methods in Tuple"
   ]
  },
  {
   "cell_type": "code",
   "execution_count": 99,
   "metadata": {},
   "outputs": [
    {
     "name": "stdout",
     "output_type": "stream",
     "text": [
      "Count of an element in a Tuple: 2\n",
      "Finding element based on Index: 6\n",
      "Unpacking Tuple into individual variable: (3, 4)\n",
      "Repeat(a) and Addition(a and b) on Tuples: (1, 2, 3, 4, 1, 2, 3, 4), (1, 2, 3, 4, 1, 1, 2, 3, 3, 4, 5, 6)\n"
     ]
    }
   ],
   "source": [
    "print(f'Count of an element in a Tuple: {b.count(3)}')\n",
    "print(f'Finding element based on Index: {b.index(5)}')\n",
    "x, y, z = d\n",
    "print(f'Unpacking Tuple into individual variable: {x, y}') # Find type of x, y and z\n",
    "print(f'Repeat(a) and Addition(a and b) on Tuples: {a*2}, {a+b}')"
   ]
  },
  {
   "cell_type": "markdown",
   "metadata": {},
   "source": [
    "### Accessing Elements in Tuple"
   ]
  },
  {
   "cell_type": "code",
   "execution_count": 100,
   "metadata": {},
   "outputs": [
    {
     "name": "stdout",
     "output_type": "stream",
     "text": [
      "Element at first and last index of tuple a:  2 4\n",
      "Elements at specific intervals (Positive Index) of tuple a: (2, 3)\n",
      "Elements at specific intervals (Negative Index) of tuple a: (2, 3)\n",
      "Accessing List inside a Tuple: [1, 2, 2]\n",
      "Accessing Partial String inside a Tuple: Tup\n"
     ]
    }
   ],
   "source": [
    "#Accessing elements in Tuple with index is similar to list\n",
    "\n",
    "print(\"Element at first and last index of tuple a: \", a[1], a[-1])\n",
    "print(f'Elements at specific intervals (Positive Index) of tuple a: {a[1:3]}')\n",
    "print(f'Elements at specific intervals (Negative Index) of tuple a: {a[-3:-1]}')\n",
    "print(f'Accessing List inside a Tuple: {c[2][:]}')\n",
    "print(f'Accessing Partial String inside a Tuple: {c[1][:3]}')"
   ]
  },
  {
   "cell_type": "markdown",
   "metadata": {},
   "source": [
    "### Reversing in Tuple"
   ]
  },
  {
   "cell_type": "code",
   "execution_count": 101,
   "metadata": {},
   "outputs": [
    {
     "name": "stdout",
     "output_type": "stream",
     "text": [
      "Reversing the Elements of Tuple c: ([1, 2, 2], 'Tuple', 1)\n",
      "Finding Elements With Specific Intervals(-ve Index): ([1, 2, 2], 1)\n",
      "Finding Elements With Specific Intervals(+ve Index): (1, [1, 2, 2])\n"
     ]
    }
   ],
   "source": [
    "print(f'Reversing the Elements of Tuple c: {c[::-1]}')\n",
    "print(f'Finding Elements With Specific Intervals(-ve Index): {c[::-2]}') #Negative Index reverses tuple\n",
    "print(f'Finding Elements With Specific Intervals(+ve Index): {c[::2]}') #Positive Index retains order "
   ]
  },
  {
   "cell_type": "markdown",
   "metadata": {},
   "source": [
    "### Deleting Tuple"
   ]
  },
  {
   "cell_type": "code",
   "execution_count": 102,
   "metadata": {},
   "outputs": [],
   "source": [
    "#unlike list, we don't have remove or pop method in tuple. Only way to delete tuple is using del\n",
    "del a"
   ]
  },
  {
   "cell_type": "code",
   "execution_count": null,
   "metadata": {},
   "outputs": [],
   "source": []
  }
 ],
 "metadata": {
  "kernelspec": {
   "display_name": "Python 3",
   "language": "python",
   "name": "python3"
  },
  "language_info": {
   "codemirror_mode": {
    "name": "ipython",
    "version": 3
   },
   "file_extension": ".py",
   "mimetype": "text/x-python",
   "name": "python",
   "nbconvert_exporter": "python",
   "pygments_lexer": "ipython3",
   "version": "3.7.6"
  }
 },
 "nbformat": 4,
 "nbformat_minor": 4
}
