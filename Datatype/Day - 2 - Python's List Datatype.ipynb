{
 "cells": [
  {
   "cell_type": "markdown",
   "metadata": {},
   "source": [
    "## Python - List DataType"
   ]
  },
  {
   "cell_type": "markdown",
   "metadata": {},
   "source": [
    "### Creating List"
   ]
  },
  {
   "cell_type": "code",
   "execution_count": 13,
   "metadata": {},
   "outputs": [
    {
     "name": "stdout",
     "output_type": "stream",
     "text": [
      "a: [] | b: [1, 2, 3, 4] | c: [1, '2', [3, 4, 5], (45, 'asd'), {'a': [1, 2, 3]}]\n"
     ]
    }
   ],
   "source": [
    "a = [] # Empty List\n",
    "b = [1, 2, 3, 4] # List with One datatype (int)\n",
    "c = [1, \"2\", [3, 4,5], (45, \"asd\"), {\"a\": [1, 2, 3]}] # List with different datatype\n",
    "print(f'a: {a} | b: {b} | c: {c}')"
   ]
  },
  {
   "cell_type": "markdown",
   "metadata": {},
   "source": [
    "### Adding Elements to List"
   ]
  },
  {
   "cell_type": "code",
   "execution_count": 14,
   "metadata": {},
   "outputs": [
    {
     "name": "stdout",
     "output_type": "stream",
     "text": [
      "a: [3, 'x', 'x']\n",
      "Count of x in List \"a\": 2\n",
      "combine list a and b: [3, 'x', 'x', 1, 2, 3, 4]\n"
     ]
    }
   ],
   "source": [
    "a.append(3); a.append(\"x\"); a.append(\"x\"); print(f'a: {a}') # Adding elements to list\n",
    "print(f'Count of x in List \"a\": {a.count(\"x\")}') # Finding frequency of an element\n",
    "print(f'combine list a and b: {a+b}') # Combining two list with + operator"
   ]
  },
  {
   "cell_type": "markdown",
   "metadata": {},
   "source": [
    "### Appending Multiple Elements using Extend"
   ]
  },
  {
   "cell_type": "code",
   "execution_count": 15,
   "metadata": {},
   "outputs": [
    {
     "name": "stdout",
     "output_type": "stream",
     "text": [
      "Appending multiple elements to List \"a\": [3, 'x', 'x', {'y': (9, 7, 6, '1')}, 9, 7, 6, '1']\n"
     ]
    }
   ],
   "source": [
    "#Appending multiple element in a list using extend\n",
    "a.append({'y': (9,7,6,'1')}) # a.extend({'y': (9,7,6,'1')})\n",
    "a.extend((9,7,6,'1')) # a.append((9,7,6,'1'))\n",
    "print(f'Appending multiple elements to List \"a\": {a}')"
   ]
  },
  {
   "cell_type": "markdown",
   "metadata": {},
   "source": [
    "### Insert Element to List Using Index"
   ]
  },
  {
   "cell_type": "code",
   "execution_count": 16,
   "metadata": {},
   "outputs": [
    {
     "name": "stdout",
     "output_type": "stream",
     "text": [
      "Inserting element to a List \"a\" using Index: ['A', 3, 'x', 'x', {'y': (9, 7, 6, '1')}, 9, 7, 6, '1']\n"
     ]
    }
   ],
   "source": [
    "#Insert element to particular index\n",
    "a.insert(0, 'A')\n",
    "print(f'Inserting element to a List \"a\" using Index: {a}')"
   ]
  },
  {
   "cell_type": "markdown",
   "metadata": {},
   "source": [
    "### Accessing Elements In List"
   ]
  },
  {
   "cell_type": "code",
   "execution_count": 17,
   "metadata": {},
   "outputs": [
    {
     "name": "stdout",
     "output_type": "stream",
     "text": [
      "Accessing First five elements of List \"a\": ['A', 3, 'x', 'x', {'y': (9, 7, 6, '1')}]\n",
      "Accessing Element with Negative Index of List \"a\": 1\n",
      "Accessing Element with specific interval on List \"a\": ['A', 'x', 7]\n",
      "c: [1, '2', [3, 4, 5], (45, 'asd'), {'a': [1, 2, 3]}]\n",
      "Accessing a List inside a List: [4, 5]\n",
      "Accessing a tuple inside a List: asd\n",
      "Accessing a Dict inside a List: [1, 2, 3]\n"
     ]
    }
   ],
   "source": [
    "# Accessing Elements in List\n",
    "print(f'Accessing First five elements of List \"a\": {a[:5]}')\n",
    "print(f'Accessing Element with Negative Index of List \"a\": {a[-1]}')\n",
    "print(f'Accessing Element with specific interval on List \"a\": {a[::3]}')\n",
    "print(f'c: {c}')\n",
    "print(f'Accessing a List inside a List: {c[2][1:]}')\n",
    "print(f'Accessing a tuple inside a List: {c[3][1]}')\n",
    "print(f'Accessing a Dict inside a List: {c[4][\"a\"]}')"
   ]
  },
  {
   "cell_type": "markdown",
   "metadata": {},
   "source": [
    "### Reversing List"
   ]
  },
  {
   "cell_type": "code",
   "execution_count": 18,
   "metadata": {},
   "outputs": [
    {
     "name": "stdout",
     "output_type": "stream",
     "text": [
      "Reversing the List a using reverse() : ['1', 6, 7, 9, {'y': (9, 7, 6, '1')}, 'x', 'x', 3, 'A']\n",
      "Reversed a:  ['1', 6, 7, 9, {'y': (9, 7, 6, '1')}, 'x', 'x', 3, 'A']\n",
      "Reversing the List a using Index: ['A', 3, 'x', 'x', {'y': (9, 7, 6, '1')}, 9, 7, 6, '1']\n"
     ]
    }
   ],
   "source": [
    "#Reversing List\n",
    "a.reverse()\n",
    "print(f'Reversing the List a using reverse() : {a}')\n",
    "print(\"Reversed a: \", a)\n",
    "print(f'Reversing the List a using Index: {a[::-1]}') # With Negative index the list reverse"
   ]
  },
  {
   "cell_type": "markdown",
   "metadata": {},
   "source": [
    "### Removing Elements From List"
   ]
  },
  {
   "cell_type": "code",
   "execution_count": 19,
   "metadata": {},
   "outputs": [
    {
     "name": "stdout",
     "output_type": "stream",
     "text": [
      "Dropping Element with Negative Index of List \"a\": ['1', 6, 7, 9, {'y': (9, 7, 6, '1')}, 'x', 'x', 3]\n",
      "Dropping Element with specific interval on List \"a\": ['A', 'x', 7]\n",
      "Element popped out is: A\n",
      "Removing element x from List ['1', 6, 7, 9, {'y': (9, 7, 6, '1')}, 'x', 3]\n"
     ]
    }
   ],
   "source": [
    "#Removing elements from list\n",
    "print(f'Dropping Element with Negative Index of List \"a\": {a[:-1]}')\n",
    "print(f'Dropping Element with specific interval on List \"a\": {a[::-3]}') # With Negative index the list reverse\n",
    "print(\"Element popped out is:\", a.pop()) # removing last element added to the list\n",
    "a.remove(\"x\")\n",
    "print(f'Removing element x from List {a}') # removing particular element"
   ]
  },
  {
   "cell_type": "markdown",
   "metadata": {},
   "source": [
    "### Clearing All Elements In List"
   ]
  },
  {
   "cell_type": "code",
   "execution_count": 20,
   "metadata": {},
   "outputs": [
    {
     "name": "stdout",
     "output_type": "stream",
     "text": [
      "Clearning List \"a\": [], \"b\": [], \"c\": []\n"
     ]
    }
   ],
   "source": [
    "# Clear all the elements of the list\n",
    "a.clear(); b.clear(); c.clear()\n",
    "print(f'Clearning List \"a\": {a}, \"b\": {b}, \"c\": {c}')"
   ]
  },
  {
   "cell_type": "code",
   "execution_count": null,
   "metadata": {},
   "outputs": [],
   "source": []
  }
 ],
 "metadata": {
  "kernelspec": {
   "display_name": "Python 3",
   "language": "python",
   "name": "python3"
  },
  "language_info": {
   "codemirror_mode": {
    "name": "ipython",
    "version": 3
   },
   "file_extension": ".py",
   "mimetype": "text/x-python",
   "name": "python",
   "nbconvert_exporter": "python",
   "pygments_lexer": "ipython3",
   "version": "3.7.6"
  }
 },
 "nbformat": 4,
 "nbformat_minor": 4
}
