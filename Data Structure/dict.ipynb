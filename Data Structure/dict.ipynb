{
 "cells": [
  {
   "cell_type": "code",
   "execution_count": null,
   "metadata": {},
   "outputs": [],
   "source": [
    "#Declare Python Dict\n",
    "dict_variable = dict()\n",
    "print(type(dict_variable))"
   ]
  },
  {
   "cell_type": "code",
   "execution_count": null,
   "metadata": {},
   "outputs": [],
   "source": [
    "##### Price Dictionary #####\n",
    "products = {\"Pen\": 10, \"Bag\": 250, \n",
    "            \"Colors\": [\"Red\", \"Blue\", \"Green\"], \n",
    "            True: \"False\", 10.5: \"Float\"\n",
    "            }"
   ]
  },
  {
   "cell_type": "code",
   "execution_count": null,
   "metadata": {},
   "outputs": [],
   "source": [
    "#Key Should be hashable type\n",
    "print(hash(100.101))\n",
    "print(hash(True))\n",
    "print(products[True])\n",
    "print(products[10.5])\n",
    "#print(dir(hash))"
   ]
  },
  {
   "cell_type": "code",
   "execution_count": null,
   "metadata": {},
   "outputs": [],
   "source": [
    "#Fetching a value using key\n",
    "print(products['Pen'])\n",
    "print(products.get('Pen')) #Doesn't throw error when key is not present"
   ]
  },
  {
   "cell_type": "code",
   "execution_count": null,
   "metadata": {},
   "outputs": [],
   "source": [
    "# Iterate through Key-Value\n",
    "for k, v in products.items():\n",
    "    print(f\"key: {k} and value: {v}\")"
   ]
  },
  {
   "cell_type": "code",
   "execution_count": null,
   "metadata": {},
   "outputs": [],
   "source": [
    "products.pop(True)"
   ]
  },
  {
   "cell_type": "code",
   "execution_count": null,
   "metadata": {},
   "outputs": [],
   "source": [
    "products"
   ]
  },
  {
   "cell_type": "code",
   "execution_count": null,
   "metadata": {},
   "outputs": [],
   "source": [
    "# Find common between two dictionary\n",
    "a = {'x': 1, 'y': 2, 'z': 3, 'f': 9}\n",
    "b = {'w': 1, 'z': 2, 'a': 3, 'f': 9}"
   ]
  },
  {
   "cell_type": "code",
   "execution_count": null,
   "metadata": {},
   "outputs": [],
   "source": [
    "# Find keys in common\n",
    "print(f'Common Keys In a and b: {a.keys() & b.keys()}\\n')\n",
    "\n",
    "# Find keys in a that are not in b\n",
    "print(f'Common Keys In a and b: {a.keys() - b.keys()}\\n')"
   ]
  },
  {
   "cell_type": "code",
   "execution_count": null,
   "metadata": {},
   "outputs": [],
   "source": [
    "# Find keys and value pairs in common\n",
    "print(f'Common Key and Value pair in a and b: {a.items() & b.items()}\\n')"
   ]
  },
  {
   "cell_type": "code",
   "execution_count": null,
   "metadata": {},
   "outputs": [],
   "source": [
    "# Create new dict from existing dict with one element removed.\n",
    "c = {key: a[key] for key in a.keys() - {'f'}}\n",
    "print(f'New Dict c: {c}')"
   ]
  },
  {
   "cell_type": "code",
   "execution_count": null,
   "metadata": {},
   "outputs": [],
   "source": [
    "# Calculating On Dictionary\n",
    "stock_prices = {\n",
    "    'zerodha': 100,\n",
    "    'Groww': 67,\n",
    "    'Upstox': 65\n",
    "    }\n",
    "\n",
    "prices = {'BBB': 34.5, 'AAA': 34.5}"
   ]
  },
  {
   "cell_type": "code",
   "execution_count": null,
   "metadata": {},
   "outputs": [],
   "source": [
    "\"\"\"Using zip(), we compare the values in the tuple and then key. If value are same, then key takes over.\"\"\"\n",
    "print(f'Stock with Max Price: {max(zip(stock_prices.values(), stock_prices.keys()))}\\n')\n",
    "print(f'Stock with Min Price: {min(zip(stock_prices.values(), stock_prices.keys()))}\\n')\n",
    "print(f'Find min, when Stock prices are same: {min(zip(prices.values(), prices.keys()))}\\n')\n",
    "print(f'Find max, when Stock prices are same: {max(zip(prices.values(), prices.keys()))}\\n')"
   ]
  },
  {
   "cell_type": "code",
   "execution_count": null,
   "metadata": {},
   "outputs": [],
   "source": [
    "# Sorting Stock Prices\n",
    "print(f'Sorting Stock Prices: {sorted(zip(stock_prices.values(), stock_prices.keys()))}\\n')"
   ]
  },
  {
   "cell_type": "code",
   "execution_count": null,
   "metadata": {},
   "outputs": [],
   "source": [
    "# Find key corresponding to min/max value\n",
    "print(f\"Stock with min value: {min(stock_prices, key=lambda k: stock_prices[k])}\\n\")\n",
    "print(f\"Stock with max value: {max(stock_prices, key=lambda k: stock_prices[k])}\\n\")"
   ]
  },
  {
   "cell_type": "code",
   "execution_count": null,
   "metadata": {},
   "outputs": [],
   "source": [
    "# Dictionary Comprehension\n",
    "\n",
    "prices = {\n",
    "    'ACME': 45.23,\n",
    "    'AAPL': 612.78,\n",
    "    'IBM': 205.55,\n",
    "    'FB': 10.75\n",
    "}"
   ]
  },
  {
   "cell_type": "code",
   "execution_count": null,
   "metadata": {},
   "outputs": [],
   "source": [
    "# Find Stocks with price > 200\n",
    "more_200 = {key: value for key, value in prices.items() if value > 200}\n",
    "print(f'Stock with price > 200: {more_200}')"
   ]
  },
  {
   "cell_type": "code",
   "execution_count": null,
   "metadata": {},
   "outputs": [],
   "source": [
    "# Make a dictionary of tech stocks\n",
    "tech_names = { 'AAPL', 'IBM', 'HPQ', 'FB' }\n",
    "tech_stocks = { key:value for key,value in prices.items() if key in tech_names }\n",
    "print(f'Tech stocks: {tech_stocks}')"
   ]
  },
  {
   "cell_type": "code",
   "execution_count": null,
   "metadata": {},
   "outputs": [],
   "source": [
    "# Update Dictionary\n",
    "prices.update({'FB':78})\n",
    "print(f'Updated FB price:{prices}')"
   ]
  },
  {
   "cell_type": "code",
   "execution_count": null,
   "metadata": {},
   "outputs": [],
   "source": [
    "from collections import defaultdict"
   ]
  },
  {
   "cell_type": "code",
   "execution_count": null,
   "metadata": {},
   "outputs": [],
   "source": [
    "# Using defaultdict\n",
    "\"\"\"defaultdict - It automatically creates keys that are accessed later on.\"\"\"\n",
    "d = defaultdict(set) # checkout defaultdict(list)\n",
    "d['num'].add(10)\n",
    "d['num'].add(20)\n",
    "d['num'].add(30)\n",
    "d['alpha'] = 'a'\n",
    "print(f'Using defaultdict: {d} \\n')"
   ]
  }
 ],
 "metadata": {
  "kernelspec": {
   "display_name": "Python 3.7.5 64-bit",
   "language": "python",
   "name": "python3"
  },
  "language_info": {
   "codemirror_mode": {
    "name": "ipython",
    "version": 3
   },
   "file_extension": ".py",
   "mimetype": "text/x-python",
   "name": "python",
   "nbconvert_exporter": "python",
   "pygments_lexer": "ipython3",
   "version": "3.7.5"
  },
  "orig_nbformat": 4,
  "vscode": {
   "interpreter": {
    "hash": "fd69f43f58546b570e94fd7eba7b65e6bcc7a5bbc4eab0408017d18902915d69"
   }
  }
 },
 "nbformat": 4,
 "nbformat_minor": 2
}
